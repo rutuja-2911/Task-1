{
  "nbformat": 4,
  "nbformat_minor": 0,
  "metadata": {
    "colab": {
      "provenance": []
    },
    "kernelspec": {
      "name": "python3",
      "display_name": "Python 3"
    },
    "language_info": {
      "name": "python"
    }
  },
  "cells": [
    {
      "cell_type": "code",
      "execution_count": 38,
      "metadata": {
        "colab": {
          "base_uri": "https://localhost:8080/"
        },
        "id": "vCBFYFqtPbBl",
        "outputId": "30173a99-3214-48ab-a417-5e7e9c395eed"
      },
      "outputs": [
        {
          "output_type": "stream",
          "name": "stdout",
          "text": [
            "Initial shape: (2240, 1)\n",
            "\n",
            "Data types:\n",
            " ID\\tYear_Birth\\tEducation\\tMarital_Status\\tIncome\\tKidhome\\tTeenhome\\tDt_Customer\\tRecency\\tMntWines\\tMntFruits\\tMntMeatProducts\\tMntFishProducts\\tMntSweetProducts\\tMntGoldProds\\tNumDealsPurchases\\tNumWebPurchases\\tNumCatalogPurchases\\tNumStorePurchases\\tNumWebVisitsMonth\\tAcceptedCmp3\\tAcceptedCmp4\\tAcceptedCmp5\\tAcceptedCmp1\\tAcceptedCmp2\\tComplain\\tZ_CostContact\\tZ_Revenue\\tResponse    object\n",
            "dtype: object\n"
          ]
        }
      ],
      "source": [
        "import pandas as pd\n",
        "df = pd.read_csv('/content/sample_data/Customer_Personality_Analysis.csv')\n",
        "print(\"Initial shape:\", df.shape)\n",
        "print(\"\\nData types:\\n\", df.dtypes)"
      ]
    },
    {
      "cell_type": "markdown",
      "source": [
        "**1. Handle Missing Values**"
      ],
      "metadata": {
        "id": "Xy8mfwaVgB9s"
      }
    },
    {
      "cell_type": "code",
      "source": [
        "print(\"\\nMissing values per column:\")\n",
        "print(df.isnull().sum())"
      ],
      "metadata": {
        "colab": {
          "base_uri": "https://localhost:8080/"
        },
        "id": "IpBj1Rc-WNet",
        "outputId": "092b7e0d-bfc0-48c0-be50-ac8fc7b9eb4a"
      },
      "execution_count": 39,
      "outputs": [
        {
          "output_type": "stream",
          "name": "stdout",
          "text": [
            "\n",
            "Missing values per column:\n",
            "ID\\tYear_Birth\\tEducation\\tMarital_Status\\tIncome\\tKidhome\\tTeenhome\\tDt_Customer\\tRecency\\tMntWines\\tMntFruits\\tMntMeatProducts\\tMntFishProducts\\tMntSweetProducts\\tMntGoldProds\\tNumDealsPurchases\\tNumWebPurchases\\tNumCatalogPurchases\\tNumStorePurchases\\tNumWebVisitsMonth\\tAcceptedCmp3\\tAcceptedCmp4\\tAcceptedCmp5\\tAcceptedCmp1\\tAcceptedCmp2\\tComplain\\tZ_CostContact\\tZ_Revenue\\tResponse    0\n",
            "dtype: int64\n"
          ]
        }
      ]
    },
    {
      "cell_type": "markdown",
      "source": [
        "**2. Remove Duplicates**"
      ],
      "metadata": {
        "id": "Suht8XvxgHFF"
      }
    },
    {
      "cell_type": "code",
      "source": [
        "print(\"\\nDuplicates found:\", df.duplicated().sum())\n",
        "df.drop_duplicates(inplace=True)"
      ],
      "metadata": {
        "colab": {
          "base_uri": "https://localhost:8080/"
        },
        "id": "YZ66GL4FWQYd",
        "outputId": "aa555f6a-43b0-4ea6-ef4d-86cadcadb280"
      },
      "execution_count": 40,
      "outputs": [
        {
          "output_type": "stream",
          "name": "stdout",
          "text": [
            "\n",
            "Duplicates found: 0\n"
          ]
        }
      ]
    },
    {
      "cell_type": "markdown",
      "source": [
        "**3. Standardize Text Values**"
      ],
      "metadata": {
        "id": "08pE8pwihJ5K"
      }
    },
    {
      "cell_type": "code",
      "source": [
        "if 'Gender' in df.columns:\n",
        "    df['Gender'] = df['Gender'].str.strip().str.lower()\n",
        "\n",
        "if 'Country' in df.columns:\n",
        "    df['Country'] = df['Country'].str.strip().str.title()"
      ],
      "metadata": {
        "id": "oZLZSDPNg-BB"
      },
      "execution_count": 41,
      "outputs": []
    },
    {
      "cell_type": "markdown",
      "source": [
        "**4. Convert Date Formats**"
      ],
      "metadata": {
        "id": "k37LUzazgOuI"
      }
    },
    {
      "cell_type": "code",
      "source": [
        "for col in df.columns:\n",
        "    if df[col].dtype == 'object':\n",
        "        try:\n",
        "            df[col] = pd.to_datetime(df[col], dayfirst=True)\n",
        "        except:\n",
        "            pass"
      ],
      "metadata": {
        "colab": {
          "base_uri": "https://localhost:8080/"
        },
        "id": "7-uEcDjjWURZ",
        "outputId": "10125950-58c6-487e-d71b-ff241628a105"
      },
      "execution_count": 42,
      "outputs": [
        {
          "output_type": "stream",
          "name": "stderr",
          "text": [
            "<ipython-input-42-91f4bee0b560>:4: UserWarning: Could not infer format, so each element will be parsed individually, falling back to `dateutil`. To ensure parsing is consistent and as-expected, please specify a format.\n",
            "  df[col] = pd.to_datetime(df[col], dayfirst=True)\n"
          ]
        }
      ]
    },
    {
      "cell_type": "markdown",
      "source": [
        "**5. Rename Column Headers**"
      ],
      "metadata": {
        "id": "IjRVqHfhhT0W"
      }
    },
    {
      "cell_type": "code",
      "source": [
        "df.columns = df.columns.str.strip().str.lower().str.replace(' ', '_')\n"
      ],
      "metadata": {
        "id": "fDgJ9Mjheqb8"
      },
      "execution_count": 43,
      "outputs": []
    },
    {
      "cell_type": "markdown",
      "source": [
        "**6. Fix Data Types**"
      ],
      "metadata": {
        "id": "en8OSwaehWhE"
      }
    },
    {
      "cell_type": "code",
      "source": [
        "if 'age' in df.columns:\n",
        "    df['age'] = df['age'].astype(int)"
      ],
      "metadata": {
        "id": "34c9wGo1WU8h"
      },
      "execution_count": 44,
      "outputs": []
    },
    {
      "cell_type": "code",
      "source": [
        "cleaned_file_path = 'customer_personality.csv'\n",
        "df.to_csv(cleaned_file_path, index=False)"
      ],
      "metadata": {
        "id": "9W8-K_H1WUwA"
      },
      "execution_count": 45,
      "outputs": []
    },
    {
      "cell_type": "code",
      "source": [
        "print(\"\\n Cleaned dataset saved to:\", cleaned_file_path)\n",
        "print(\"Final shape:\", df.shape)\n",
        "print(\"\\nSample data:\")\n",
        "print(df.head())"
      ],
      "metadata": {
        "colab": {
          "base_uri": "https://localhost:8080/"
        },
        "id": "5_S1lCRVe89z",
        "outputId": "cf900c3a-4f32-4e91-fc2a-41ce33ede19a"
      },
      "execution_count": 46,
      "outputs": [
        {
          "output_type": "stream",
          "name": "stdout",
          "text": [
            "\n",
            " Cleaned dataset saved to: customer_personality.csv\n",
            "Final shape: (2240, 1)\n",
            "\n",
            "Sample data:\n",
            "  id\\tyear_birth\\teducation\\tmarital_status\\tincome\\tkidhome\\tteenhome\\tdt_customer\\trecency\\tmntwines\\tmntfruits\\tmntmeatproducts\\tmntfishproducts\\tmntsweetproducts\\tmntgoldprods\\tnumdealspurchases\\tnumwebpurchases\\tnumcatalogpurchases\\tnumstorepurchases\\tnumwebvisitsmonth\\tacceptedcmp3\\tacceptedcmp4\\tacceptedcmp5\\tacceptedcmp1\\tacceptedcmp2\\tcomplain\\tz_costcontact\\tz_revenue\\tresponse\n",
            "0  5524\\t1957\\tGraduation\\tSingle\\t58138\\t0\\t0\\t0...                                                                                                                                                                                                                                                                                                                                                  \n",
            "1  2174\\t1954\\tGraduation\\tSingle\\t46344\\t1\\t1\\t0...                                                                                                                                                                                                                                                                                                                                                  \n",
            "2  4141\\t1965\\tGraduation\\tTogether\\t71613\\t0\\t0\\...                                                                                                                                                                                                                                                                                                                                                  \n",
            "3  6182\\t1984\\tGraduation\\tTogether\\t26646\\t1\\t0\\...                                                                                                                                                                                                                                                                                                                                                  \n",
            "4  5324\\t1981\\tPhD\\tMarried\\t58293\\t1\\t0\\t19-01-2...                                                                                                                                                                                                                                                                                                                                                  \n"
          ]
        }
      ]
    }
  ]
}